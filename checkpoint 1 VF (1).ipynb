{
 "cells": [
  {
   "cell_type": "code",
   "execution_count": 12,
   "metadata": {
    "collapsed": false
   },
   "outputs": [
    {
     "name": "stdout",
     "output_type": "stream",
     "text": [
      "EXERCICE 1:\n",
      "[2002, 2009, 2016, 2023, 2037, 2044, 2051, 2058, 2072, 2079, 2086, 2093, 2107, 2114, 2121, 2128, 2142, 2149, 2156, 2163, 2177, 2184, 2191, 2198, 2212, 2219, 2226, 2233, 2247, 2254, 2261, 2268, 2282, 2289, 2296, 2303, 2317, 2324, 2331, 2338, 2352, 2359, 2366, 2373, 2387, 2394, 2401, 2408, 2422, 2429, 2436, 2443, 2457, 2464, 2471, 2478, 2492, 2499, 2506, 2513, 2527, 2534, 2541, 2548, 2562, 2569, 2576, 2583, 2597, 2604, 2611, 2618, 2632, 2639, 2646, 2653, 2667, 2674, 2681, 2688, 2702, 2709, 2716, 2723, 2737, 2744, 2751, 2758, 2772, 2779, 2786, 2793, 2807, 2814, 2821, 2828, 2842, 2849, 2856, 2863, 2877, 2884, 2891, 2898, 2912, 2919, 2926, 2933, 2947, 2954, 2961, 2968, 2982, 2989, 2996, 3003, 3017, 3024, 3031, 3038, 3052, 3059, 3066, 3073, 3087, 3094, 3101, 3108, 3122, 3129, 3136, 3143, 3157, 3164, 3171, 3178, 3192, 3199]\n"
     ]
    }
   ],
   "source": [
    "print( \"EXERCICE 1:\")\n",
    "a=[]\n",
    "for x in range(2000, 3201):\n",
    "    if (x%7==0) and (x%5!=0):\n",
    "        a.append(x)\n",
    "print(a)\n"
   ]
  },
  {
   "cell_type": "code",
   "execution_count": 13,
   "metadata": {
    "cocalc": {
     "outputs": {
      "1": {
       "name": "input",
       "opts": {
        "password": false,
        "prompt": ""
       },
       "output_type": "stream",
       "value": "8"
      }
     }
    },
    "collapsed": false
   },
   "outputs": [
    {
     "name": "stdout",
     "output_type": "stream",
     "text": [
      "EXERCICE 2:\n",
      "Entrer un chiffre entier\n"
     ]
    },
    {
     "name": "stdout",
     "output_type": "stream",
     "text": " 8"
    },
    {
     "name": "stdout",
     "output_type": "stream",
     "text": [
      "40320\n"
     ]
    }
   ],
   "source": [
    "print(\"EXERCICE 2:\")\n",
    "\n",
    "print(\"Entrer un chiffre entier\")\n",
    "a=input()\n",
    "b=int(a)\n",
    "c=1\n",
    "for x in range(1, b+1) :\n",
    "    c=c*x\n",
    "print(c)"
   ]
  },
  {
   "cell_type": "code",
   "execution_count": 16,
   "metadata": {
    "cocalc": {
     "outputs": {
      "1": {
       "name": "input",
       "opts": {
        "password": false,
        "prompt": ""
       },
       "output_type": "stream",
       "value": "8"
      }
     }
    },
    "collapsed": false
   },
   "outputs": [
    {
     "name": "stdout",
     "output_type": "stream",
     "text": [
      "EXERCICE 3:\n",
      "Entrer un chiffre entier\n"
     ]
    },
    {
     "name": "stdout",
     "output_type": "stream",
     "text": " 8"
    },
    {
     "name": "stdout",
     "output_type": "stream",
     "text": [
      "{1: 1, 2: 4, 3: 9, 4: 16, 5: 25, 6: 36, 7: 49, 8: 64}\n"
     ]
    }
   ],
   "source": [
    "print(\"EXERCICE 3:\")\n",
    "print(\"Entrer un chiffre entier\")\n",
    "a = input()\n",
    "b = int(a)\n",
    "e = {}\n",
    "c = 0\n",
    "for x in range(1, b + 1):\n",
    "    d = x * x\n",
    "    e[(c + 1)] = d\n",
    "    c = x\n",
    "print(e)"
   ]
  },
  {
   "cell_type": "code",
   "execution_count": 17,
   "metadata": {
    "cocalc": {
     "outputs": {
      "1": {
       "name": "input",
       "opts": {
        "password": false,
        "prompt": ""
       },
       "output_type": "stream",
       "value": "100,150,180"
      }
     }
    },
    "collapsed": false
   },
   "outputs": [
    {
     "name": "stdout",
     "output_type": "stream",
     "text": [
      "EXERCICE4:\n",
      "Entrer 3 chiffres entiers séparées par des virgule\n"
     ]
    },
    {
     "name": "stdout",
     "output_type": "stream",
     "text": " 100,150,180"
    },
    {
     "name": "stdout",
     "output_type": "stream",
     "text": [
      "18 , 22 , 24\n"
     ]
    }
   ],
   "source": [
    "print(\"EXERCICE4:\")\n",
    "print(\"Entrer 3 chiffres entiers séparées par des virgule\")\n",
    "a=input()\n",
    "b=a.split(\",\")\n",
    "c=int(b[0])\n",
    "d=int(b[1])\n",
    "e=int(b[2])\n",
    "\n",
    "C=50\n",
    "H=30\n",
    "\n",
    "q1= 2*C*c / H\n",
    "Q1=int(q1**0.5)\n",
    "\n",
    "q2= 2*C*d / H\n",
    "Q2=int(q2**0.5)\n",
    "\n",
    "q3= 2*C*e / H\n",
    "Q3=int(q3**0.5)\n",
    "\n",
    "print(Q1,\",\",Q2,\",\",Q3)"
   ]
  },
  {
   "cell_type": "code",
   "execution_count": 1,
   "metadata": {
    "collapsed": false
   },
   "outputs": [
    {
     "name": "stdout",
     "output_type": "stream",
     "text": [
      "EXERCICE 8:\n",
      "[[ 1.  -1.5]\n",
      " [-1.5  1. ]]\n"
     ]
    }
   ],
   "source": [
    "print(\"EXERCICE 8:\")\n",
    "\n",
    "import numpy as np\n",
    "\n",
    "Matrice=np.array([[0,1,2],[2,1,0]])\n",
    "\n",
    "a=Matrice[0,0]\n",
    "b=Matrice[0,1]\n",
    "c=Matrice[0,2]\n",
    "d=Matrice[1,0]\n",
    "e=Matrice[1,1]\n",
    "f=Matrice[1,2]\n",
    "\n",
    "moyx=((a+b+c)/3)\n",
    "moyy=((d+e+f)/3)\n",
    "\n",
    "varx=(((a-moyx)**2+(b-moyx)**2+(c-moyx)**2)/2)\n",
    "vary=(((d-moyy)**2+(e-moyy)**2+(f-moyy)**2)/2)\n",
    "\n",
    "covxy=(((a-moyx)*(d-moyy))+((b-moyx)*(e-moyy))+((c-moyx)*(f-moyy))/2)\n",
    "\n",
    "\n",
    "covariance=np.array([[varx,covxy],[covxy,vary]])\n",
    "\n",
    "\n",
    "Matrice_Cov=np.array([[varx,covxy],[covxy,vary]])\n",
    "\n",
    "print(Matrice_Cov)"
   ]
  },
  {
   "cell_type": "code",
   "execution_count": 1,
   "metadata": {
    "collapsed": false
   },
   "outputs": [
    {
     "name": "stdout",
     "output_type": "stream",
     "text": [
      "EXERCICE 6\n",
      "Message décrypté: g fmnc wms bgblr rpylqjyrc gr zw fylb. rfyrq ufyr amknsrcpq ypc dmp. bmgle gr gl zw fylb gq glcddgagclr ylb rfyr'q ufw rfgq rcvr gq qm jmle. sqgle qrpgle.kyicrpylq() gq pcamkkclbcb. lmu ynnjw ml rfc spj.\n"
     ]
    }
   ],
   "source": [
    "print(\"EXERCICE 6\")\n",
    "\n",
    "message=\"g fmnc wms bgblr rpylqjyrc gr zw fylb. rfyrq ufyr amknsrcpq ypc dmp. bmgle gr gl zw fylb gq glcddgagclr ylb rfyr'q ufw rfgq rcvr gq qm jmle. sqgle qrpgle.kyicrpylq() gq pcamkkclbcb. lmu ynnjw ml rfc spj.\"\n",
    "\n",
    "liste=[]\n",
    "Messagecrypt=\"Message décrypté: \"\n",
    "\n",
    "for i in message :\n",
    "    if i==\"k\":\n",
    "        liste.append(\"m\")\n",
    "    \n",
    "    elif i==\"o\":\n",
    "        liste.append(\"q\")\n",
    "    \n",
    "    elif i==\"e\":\n",
    "        liste.append(\"g\")\n",
    "    \n",
    "    else:\n",
    "        liste.append(i)\n",
    "    \n",
    "    Messagecrypt=Messagecrypt+i\n",
    "\n",
    "\n",
    "print(Messagecrypt)"
   ]
  },
  {
   "cell_type": "code",
   "execution_count": 3,
   "metadata": {
    "collapsed": false
   },
   "outputs": [
    {
     "name": "stdout",
     "output_type": "stream",
     "text": [
      "exercice 7:\n",
      "Ce programme permet de changer n’importe quel ARRAY en LIST. Dans notre cas  : Original array elements: [[0 1] [2 3] [4 5]] \n",
      "['[0,1]', '[2,3]', '[4,5]']\n"
     ]
    }
   ],
   "source": [
    "print(\"exercice 7:\")\n",
    "\n",
    "print(\"Ce programme permet de changer n’importe quel ARRAY en LIST. Dans notre cas  : Original array elements: [[0 1] [2 3] [4 5]] \")\n",
    "\n",
    "import numpy as np\n",
    "\n",
    "array1=np.array([[0,1],[2,3],[4,5]])\n",
    "\n",
    "ArrayOnlist=[]\n",
    "\n",
    "liste1=[]\n",
    "\n",
    "liste1=[array1.shape]\n",
    "\n",
    "shape=(liste1[0])   \n",
    "\n",
    "y=0\n",
    "while y <= (shape[0]-1):\n",
    "        CH=\"[\"\n",
    "        for x in range(0,shape[1]):\n",
    "            if x < (shape[1]-1):\n",
    "                CH=(CH + str(array1[y,x]) + \",\")\n",
    "            elif x==(shape[1]-1):\n",
    "                CH=(CH + str(array1[y,x]) + \"]\")\n",
    "                \n",
    "        ArrayOnlist.append(CH)\n",
    "        y=y+1\n",
    "\n",
    "\n",
    "\n",
    "\n",
    "print(ArrayOnlist)  \n"
   ]
  },
  {
   "cell_type": "code",
   "execution_count": 0,
   "metadata": {
    "collapsed": false
   },
   "outputs": [
   ],
   "source": [
   ]
  }
 ],
 "metadata": {
  "kernelspec": {
   "display_name": "Python 3 (system-wide)",
   "language": "python",
   "metadata": {
    "cocalc": {
     "description": "Python 3 programming language",
     "priority": 100,
     "url": "https://www.python.org/"
    }
   },
   "name": "python3"
  },
  "language_info": {
   "codemirror_mode": {
    "name": "ipython",
    "version": 3
   },
   "file_extension": ".py",
   "mimetype": "text/x-python",
   "name": "python",
   "nbconvert_exporter": "python",
   "pygments_lexer": "ipython3",
   "version": "3.6.9"
  }
 },
 "nbformat": 4,
 "nbformat_minor": 4
}